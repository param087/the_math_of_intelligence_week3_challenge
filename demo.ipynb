{
 "cells": [
  {
   "cell_type": "markdown",
   "metadata": {
    "deletable": true,
    "editable": true
   },
   "source": [
    "# implementation of  L1 and L2 norm to regularize a linear regression model.\n",
    "                                           "
   ]
  },
  {
   "cell_type": "code",
   "execution_count": 1,
   "metadata": {
    "collapsed": true,
    "deletable": true,
    "editable": true
   },
   "outputs": [],
   "source": [
    "import numpy as np\n",
    "import pandas as pd\n",
    "import matplotlib.pyplot as plt\n",
    "\n",
    "%matplotlib inline"
   ]
  },
  {
   "cell_type": "markdown",
   "metadata": {
    "deletable": true,
    "editable": true
   },
   "source": [
    "The codding challege of  week 3  is to implementation of u the L1 and L2 norm to regularize a linear regression model."
   ]
  },
  {
   "cell_type": "code",
   "execution_count": 2,
   "metadata": {
    "collapsed": false,
    "deletable": true,
    "editable": true,
    "scrolled": true
   },
   "outputs": [
    {
     "name": "stdout",
     "output_type": "stream",
     "text": [
      "    ADR  Rating\n",
      "0  85.0   117.0\n",
      "1  83.5   110.0\n",
      "2  78.2   102.0\n",
      "3  68.1    97.0\n",
      "4  66.3    86.0\n",
      "count of dataset =  1000\n"
     ]
    }
   ],
   "source": [
    "dataFrame = pd.read_csv('ADRvsRating.csv')#read the file of type csv\n",
    "\n",
    "Cols = ['ADR','Rating']#taking title of only required columns in the dataset\n",
    "\n",
    "dataFrame = dataFrame[Cols]#consider only those columns which are required and drop the other columns\n",
    "\n",
    "#print the data\n",
    "print(dataFrame.head())\n",
    "print('count of dataset = ',len(dataFrame))"
   ]
  },
  {
   "cell_type": "code",
   "execution_count": 3,
   "metadata": {
    "collapsed": false,
    "deletable": true,
    "editable": true
   },
   "outputs": [
    {
     "data": {
      "image/png": "[encoded data removed]",
      "text/plain": [
       "<matplotlib.figure.Figure at 0x266463577b8>"
      ]
     },
     "metadata": {},
     "output_type": "display_data"
    }
   ],
   "source": [
    "#plot data in the 2d space to visullize\n",
    "plt.scatter(dataFrame['ADR'],dataFrame['Rating'])\n",
    "plt.title('ADR vs Rating')\n",
    "plt.xlabel('ADR')\n",
    "plt.ylabel('Rating')\n",
    "plt.show()"
   ]
  },
  {
   "cell_type": "code",
   "execution_count": 4,
   "metadata": {
    "collapsed": false,
    "deletable": true,
    "editable": true
   },
   "outputs": [],
   "source": [
    "data = dataFrame.as_matrix()#conver the data into matrix format"
   ]
  },
  {
   "cell_type": "code",
   "execution_count": 5,
   "metadata": {
    "collapsed": false,
    "deletable": true,
    "editable": true
   },
   "outputs": [],
   "source": [
    "#step to gradient descent\n",
    "def step_gradient(b_current,m_current,points, learningRate):\n",
    "    b_gradient = 0\n",
    "    m_gradient = 0\n",
    "\n",
    "    N = float(len(points))\n",
    "    \n",
    "    for i in range(0,len(points)):\n",
    "        x = points[i,0]\n",
    "        y = points[i,1]\n",
    "        b_gradient += -(2/N) * (y - ( m_current * x + b_current)) \n",
    "        m_gradient += -(2/N) * x * (y - (m_current * x + b_current))\n",
    "        \n",
    "\n",
    "    new_b = b_current - (learningRate * b_gradient) \n",
    "    new_m = m_current - (learningRate * m_gradient)\n",
    "    \n",
    "    return [new_b, new_m]"
   ]
  },
  {
   "cell_type": "code",
   "execution_count": 13,
   "metadata": {
    "collapsed": true,
    "deletable": true,
    "editable": true
   },
   "outputs": [],
   "source": [
    "def step_gradient_with_l1(b_current,m_current,points, learningRate):\n",
    "    b_gradient = 0\n",
    "    m_gradient = 0\n",
    "    lamb=1 #parameter for penalty term\n",
    "    \n",
    "    \n",
    "    \n",
    "    N = float(len(points))\n",
    "    \n",
    "    for i in range(0,len(points)):\n",
    "        x = points[i,0]\n",
    "        y = points[i,1]\n",
    "        b_gradient += -(2/N) * (y - ( m_current * x + b_current))\n",
    "        m_gradient += -(2/N) * x * (y - (m_current * x + b_current))\n",
    "        \n",
    "    #here we are adding derivative of panalty tearm with respect to weight in\n",
    "    #the derivative of with respect to meansquare error\n",
    "    #here the derivative of l1 is weigth/absoute(weigth) \n",
    "    \n",
    "        m_gradient -= (1/2) * (m_gradient)/np.absolute(m_gradient)# calculate l1 norm based on the weight\n",
    "\n",
    "\n",
    "    new_b = b_current - (learningRate * b_gradient) \n",
    "    new_m = m_current - (learningRate * m_gradient)\n",
    "    \n",
    "    return [new_b, new_m]"
   ]
  },
  {
   "cell_type": "code",
   "execution_count": 7,
   "metadata": {
    "collapsed": false,
    "deletable": true,
    "editable": true
   },
   "outputs": [],
   "source": [
    "def step_gradient_with_l2(b_current,m_current,points, learningRate):\n",
    "    b_gradient = 0\n",
    "    m_gradient = 0\n",
    "    lamb=1000 #parameter for penaramete\n",
    "\n",
    "    N = float(len(points))\n",
    "    \n",
    "    for i in range(0,len(points)):\n",
    "        x = points[i,0]\n",
    "        y = points[i,1]\n",
    "        b_gradient += -(2/N) * (y - ( m_current * x + b_current))\n",
    "        m_gradient += m_current-(2/N) * x * (y - (m_current * x + b_current))\n",
    "        t# calculate l2 norm based on the weight\n",
    "        \n",
    "        #gradient plus the derivative of lausso regression\n",
    "   \n",
    "    new_b = b_current - (learningRate * b_gradient) \n",
    "    new_m = m_current - (learningRate * m_gradient)\n",
    "    \n",
    "    return [new_b, new_m]"
   ]
  },
  {
   "cell_type": "code",
   "execution_count": 8,
   "metadata": {
    "collapsed": true,
    "deletable": true,
    "editable": true
   },
   "outputs": [],
   "source": [
    "def gradient_descent_runner(points, starting_b, starting_m, learningRate, iterations):\n",
    "    b = starting_b\n",
    "    m = starting_m\n",
    "    \n",
    "    for i in range(iterations):\n",
    "\n",
    "        b1, m1 = step_gradient(b, m, points,learningRate)\n",
    "        b2, m2 = step_gradient_with_l1(b,m,points, learningRate)\n",
    "        b3, m3 = step_gradient_with_l2(b,m,points, learningRate)\n",
    "    return (b1,m1,b2,m2,b3,m3)"
   ]
  },
  {
   "cell_type": "code",
   "execution_count": 9,
   "metadata": {
    "collapsed": false,
    "deletable": true,
    "editable": true
   },
   "outputs": [],
   "source": [
    "#hyperparameters\n",
    "learningRate = 1e-4\n",
    "iterations = 1000\n",
    "initial_b = 0\n",
    "initial_m = 0\n",
    "\n",
    "b1, m1, b2, m2, b3, m3 = gradient_descent_runner(data,initial_b, initial_m,learningRate, iterations)\n"
   ]
  },
  {
   "cell_type": "code",
   "execution_count": 10,
   "metadata": {
    "collapsed": false,
    "deletable": true,
    "editable": true
   },
   "outputs": [
    {
     "data": {
      "image/png": "[encoded data removed]",
      "text/plain": [
       "<matplotlib.figure.Figure at 0x2664639e2b0>"
      ]
     },
     "metadata": {},
     "output_type": "display_data"
    }
   ],
   "source": [
    "plt.plot(np.array(dataFrame['ADR']), np.array(m1*dataFrame['ADR']) + b1,'red')\n",
    "plt.scatter(dataFrame['ADR'],dataFrame['Rating'])\n",
    "plt.title('ADR vs Rating')\n",
    "plt.xlabel('ADR')\n",
    "plt.ylabel('Rating')\n",
    "plt.show()"
   ]
  },
  {
   "cell_type": "code",
   "execution_count": 11,
   "metadata": {
    "collapsed": false,
    "deletable": true,
    "editable": true
   },
   "outputs": [
    {
     "data": {
      "image/png": "[encoded data removed]",
      "text/plain": [
       "<matplotlib.figure.Figure at 0x26643b077b8>"
      ]
     },
     "metadata": {},
     "output_type": "display_data"
    }
   ],
   "source": [
    "plt.plot(np.array(dataFrame['ADR']), np.array(m3*dataFrame['ADR']) + b3,'yellow')\n",
    "plt.scatter(dataFrame['ADR'],dataFrame['Rating'])\n",
    "plt.title('ADR vs Rating by l2 Regularization')\n",
    "plt.xlabel('ADR')\n",
    "plt.ylabel('Rating')\n",
    "plt.show()"
   ]
  },
  {
   "cell_type": "code",
   "execution_count": 12,
   "metadata": {
    "collapsed": false,
    "deletable": true,
    "editable": true
   },
   "outputs": [
    {
     "name": "stdout",
     "output_type": "stream",
     "text": [
      "m and b :\n",
      "m1=  1.7313251 --- b1=  0.0212832\n",
      "\n",
      "m and b with l1 Regularization:\n",
      "m2=  1.6813251 --- b1=  0.0212832\n",
      "\n",
      "m and b with l2 Regularization:\n",
      "m2=  1.7313251 --- b1=  0.0212832\n"
     ]
    }
   ],
   "source": [
    "print('m and b :')\n",
    "print('m1= ',m1,\"--- b1= \",b1)\n",
    "print()\n",
    "\n",
    "print('m and b with l1 Regularization:')\n",
    "print('m2= ',m2,\"--- b1= \",b2)\n",
    "print()\n",
    "\n",
    "print('m and b with l2 Regularization:')\n",
    "print('m2= ',m3,\"--- b1= \",b3)"
   ]
  }
 ],
 "metadata": {
  "kernelspec": {
   "display_name": "Python 3",
   "language": "python",
   "name": "python3"
  },
  "language_info": {
   "codemirror_mode": {
    "name": "ipython",
    "version": 3
   },
   "file_extension": ".py",
   "mimetype": "text/x-python",
   "name": "python",
   "nbconvert_exporter": "python",
   "pygments_lexer": "ipython3",
   "version": "3.5.3"
  }
 },
 "nbformat": 4,
 "nbformat_minor": 2
}
