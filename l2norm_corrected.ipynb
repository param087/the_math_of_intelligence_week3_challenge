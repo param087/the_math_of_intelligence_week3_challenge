{
 "cells": [
  {
   "cell_type": "code",
   "execution_count": 1,
   "metadata": {
    "collapsed": true,
    "deletable": true,
    "editable": true
   },
   "outputs": [],
   "source": [
    "import numpy as np#for matrix operation\n",
    "\n",
    "import matplotlib.pyplot as plt#for visualiztion\n",
    "\n",
    "import pandas as pd #for data maipution"
   ]
  },
  {
   "cell_type": "code",
   "execution_count": 2,
   "metadata": {
    "collapsed": false,
    "deletable": true,
    "editable": true
   },
   "outputs": [
    {
     "data": {
      "text/html": [
       "<div>\n",
       "<style>\n",
       "    .dataframe thead tr:only-child th {\n",
       "        text-align: right;\n",
       "    }\n",
       "\n",
       "    .dataframe thead th {\n",
       "        text-align: left;\n",
       "    }\n",
       "\n",
       "    .dataframe tbody tr th {\n",
       "        vertical-align: top;\n",
       "    }\n",
       "</style>\n",
       "<table border=\"1\" class=\"dataframe\">\n",
       "  <thead>\n",
       "    <tr style=\"text-align: right;\">\n",
       "      <th></th>\n",
       "      <th>ADR</th>\n",
       "      <th>Rating</th>\n",
       "    </tr>\n",
       "  </thead>\n",
       "  <tbody>\n",
       "    <tr>\n",
       "      <th>0</th>\n",
       "      <td>85.0</td>\n",
       "      <td>117.0</td>\n",
       "    </tr>\n",
       "    <tr>\n",
       "      <th>1</th>\n",
       "      <td>83.5</td>\n",
       "      <td>110.0</td>\n",
       "    </tr>\n",
       "    <tr>\n",
       "      <th>2</th>\n",
       "      <td>78.2</td>\n",
       "      <td>102.0</td>\n",
       "    </tr>\n",
       "    <tr>\n",
       "      <th>3</th>\n",
       "      <td>68.1</td>\n",
       "      <td>97.0</td>\n",
       "    </tr>\n",
       "    <tr>\n",
       "      <th>4</th>\n",
       "      <td>66.3</td>\n",
       "      <td>86.0</td>\n",
       "    </tr>\n",
       "  </tbody>\n",
       "</table>\n",
       "</div>"
      ],
      "text/plain": [
       "    ADR  Rating\n",
       "0  85.0   117.0\n",
       "1  83.5   110.0\n",
       "2  78.2   102.0\n",
       "3  68.1    97.0\n",
       "4  66.3    86.0"
      ]
     },
     "execution_count": 2,
     "metadata": {},
     "output_type": "execute_result"
    }
   ],
   "source": [
    "dataFrame = pd.read_csv('ADRvsRating.csv')#read the data\n",
    "\n",
    "dataFrame.head()#display the data"
   ]
  },
  {
   "cell_type": "code",
   "execution_count": 11,
   "metadata": {
    "collapsed": false,
    "deletable": true,
    "editable": true
   },
   "outputs": [
    {
     "data": {
      "text/html": [
       "<div>\n",
       "<style>\n",
       "    .dataframe thead tr:only-child th {\n",
       "        text-align: right;\n",
       "    }\n",
       "\n",
       "    .dataframe thead th {\n",
       "        text-align: left;\n",
       "    }\n",
       "\n",
       "    .dataframe tbody tr th {\n",
       "        vertical-align: top;\n",
       "    }\n",
       "</style>\n",
       "<table border=\"1\" class=\"dataframe\">\n",
       "  <thead>\n",
       "    <tr style=\"text-align: right;\">\n",
       "      <th></th>\n",
       "      <th>ADR</th>\n",
       "      <th>Rating</th>\n",
       "    </tr>\n",
       "  </thead>\n",
       "  <tbody>\n",
       "    <tr>\n",
       "      <th>count</th>\n",
       "      <td>1000.000000</td>\n",
       "      <td>1000.000000</td>\n",
       "    </tr>\n",
       "    <tr>\n",
       "      <th>mean</th>\n",
       "      <td>75.866900</td>\n",
       "      <td>106.416000</td>\n",
       "    </tr>\n",
       "    <tr>\n",
       "      <th>std</th>\n",
       "      <td>19.055776</td>\n",
       "      <td>34.532585</td>\n",
       "    </tr>\n",
       "    <tr>\n",
       "      <th>min</th>\n",
       "      <td>19.700000</td>\n",
       "      <td>5.000000</td>\n",
       "    </tr>\n",
       "    <tr>\n",
       "      <th>25%</th>\n",
       "      <td>62.775000</td>\n",
       "      <td>82.000000</td>\n",
       "    </tr>\n",
       "    <tr>\n",
       "      <th>50%</th>\n",
       "      <td>74.650000</td>\n",
       "      <td>103.000000</td>\n",
       "    </tr>\n",
       "    <tr>\n",
       "      <th>75%</th>\n",
       "      <td>87.375000</td>\n",
       "      <td>127.000000</td>\n",
       "    </tr>\n",
       "    <tr>\n",
       "      <th>max</th>\n",
       "      <td>151.800000</td>\n",
       "      <td>239.000000</td>\n",
       "    </tr>\n",
       "  </tbody>\n",
       "</table>\n",
       "</div>"
      ],
      "text/plain": [
       "               ADR       Rating\n",
       "count  1000.000000  1000.000000\n",
       "mean     75.866900   106.416000\n",
       "std      19.055776    34.532585\n",
       "min      19.700000     5.000000\n",
       "25%      62.775000    82.000000\n",
       "50%      74.650000   103.000000\n",
       "75%      87.375000   127.000000\n",
       "max     151.800000   239.000000"
      ]
     },
     "execution_count": 11,
     "metadata": {},
     "output_type": "execute_result"
    }
   ],
   "source": [
    "\n",
    "dataFrame.describe()"
   ]
  },
  {
   "cell_type": "code",
   "execution_count": 4,
   "metadata": {
    "collapsed": false,
    "deletable": true,
    "editable": true
   },
   "outputs": [
    {
     "data": {
      "image/png": "[encoded data removed]",
      "text/plain": [
       "<matplotlib.figure.Figure at 0x1a1b9b45390>"
      ]
     },
     "metadata": {},
     "output_type": "display_data"
    }
   ],
   "source": [
    "#visualize data\n",
    "plt.scatter(dataFrame['ADR'],dataFrame['Rating'])#select data for x axis and y axis\n",
    "plt.title('ADR vs Rating')#title of fig\n",
    "plt.ylabel('Rating')#y label of fig\n",
    "plt.xlabel('ADR')#x label \n",
    "plt.show()#plot or show the fig"
   ]
  },
  {
   "cell_type": "code",
   "execution_count": 5,
   "metadata": {
    "collapsed": true,
    "deletable": true,
    "editable": true
   },
   "outputs": [],
   "source": [
    "def regulizer_l2(y,x,lamb):\n",
    "    \n",
    "    #as for penalty term in l2  regulizer is zero \n",
    "    #hence we are only cosidering error term\n",
    "    xt = np.matrix.transpose(x)#take the transpose of matrix\n",
    "    \n",
    "    identity = np.identity(len(x[1,:]))#generate identity matrix \n",
    "    \n",
    "    identity[0,0]=0#for l2 norm we cosider \n",
    "    \n",
    "    #b^ = inv(xT.X + lambda*I).(xT.Y)\n",
    "    betabar = np.dot(np.linalg.inv(np.add(np.dot(xt,x) , lamb * identity)), np.dot(xt,y))\n",
    "    \n",
    "    return betabar\n"
   ]
  },
  {
   "cell_type": "code",
   "execution_count": 6,
   "metadata": {
    "collapsed": false,
    "deletable": true,
    "editable": true
   },
   "outputs": [
    {
     "name": "stdout",
     "output_type": "stream",
     "text": [
      "[-15.54790166   1.6076036 ]\n"
     ]
    }
   ],
   "source": [
    "adr = np.array(dataFrame['ADR'])#convert the data to vector form\n",
    "\n",
    "rating = np.array(dataFrame['Rating'])#convert data to vector form\n",
    "\n",
    "ones = np.ones(len(rating))#create the len of rating vector initiate to 1\n",
    "\n",
    "design_simple = np.column_stack((ones,adr))#define design matrix\n",
    "\n",
    "beta1 =regulizer_l2(rating, design_simple,0)#define b0 and b1 for simple equation\n",
    "#beta1[0]=b0 and beta[1]=b1\n",
    "\n",
    "print(beta1)"
   ]
  },
  {
   "cell_type": "code",
   "execution_count": 7,
   "metadata": {
    "collapsed": false,
    "deletable": true,
    "editable": true
   },
   "outputs": [
    {
     "name": "stdout",
     "output_type": "stream",
     "text": [
      "[ -8.63404520e+01   7.32971906e+00  -1.58414850e-01   1.97479859e-03\n",
      "  -1.14349230e-05   2.52187969e-08]\n"
     ]
    }
   ],
   "source": [
    "\n",
    "#simiary for equation of order 5\n",
    "adr2 = np.power(adr,2)\n",
    "adr3 = np.power(adr,3)\n",
    "adr4 = np.power(adr,4)\n",
    "adr5 = np.power(adr,5)\n",
    "\n",
    "\n",
    "design_mul = np.column_stack((ones,adr,adr2,adr3,adr4,adr5))\n",
    "\n",
    "#here we are cosidering lambda=0\n",
    "beta_mul = regulizer_l2(rating,design_mul,0)\n",
    "print(beta_mul)"
   ]
  },
  {
   "cell_type": "code",
   "execution_count": 8,
   "metadata": {
    "collapsed": false,
    "deletable": true,
    "editable": true
   },
   "outputs": [
    {
     "name": "stdout",
     "output_type": "stream",
     "text": [
      "[ -5.87792008e+01   5.36456135e+00  -1.05980333e-01   1.31500725e-03\n",
      "  -7.49490497e-06   1.62389542e-08]\n"
     ]
    }
   ],
   "source": [
    "#here we are cosidering lambda=5\n",
    "beta_mul2 = regulizer_l2(rating,design_mul,5)\n",
    "print(beta_mul2)"
   ]
  },
  {
   "cell_type": "code",
   "execution_count": 9,
   "metadata": {
    "collapsed": false,
    "deletable": true,
    "editable": true
   },
   "outputs": [
    {
     "data": {
      "image/png": "[encoded data removed]",
      "text/plain": [
       "<matplotlib.figure.Figure at 0x1a1b9fabba8>"
      ]
     },
     "metadata": {},
     "output_type": "display_data"
    }
   ],
   "source": [
    "#plt.subplot(1,2,1)\n",
    "plt.scatter(dataFrame['ADR'],dataFrame['Rating'])#plot data to 2d space\n",
    "plt.title('adr vs rating ')#title of fig\n",
    "plt.xlabel('adr')#x axis label\n",
    "plt.ylabel('rating')# y axis label\n",
    "simple, = plt.plot(adr, beta1[0] + adr*beta1[1],'y')#plot the regrssion line\n",
    "plt.legend([simple],['Degree 1'])\n",
    "plt.show()#display"
   ]
  },
  {
   "cell_type": "code",
   "execution_count": 10,
   "metadata": {
    "collapsed": false,
    "deletable": true,
    "editable": true
   },
   "outputs": [
    {
     "data": {
      "image/png": "[encoded data removed]",
      "text/plain": [
       "<matplotlib.figure.Figure at 0x1a1b9fabcf8>"
      ]
     },
     "metadata": {},
     "output_type": "display_data"
    }
   ],
   "source": [
    "plt.scatter(dataFrame['ADR'],dataFrame['Rating'])#plot the data in 2d space\n",
    "plt.title('adr vs rating ')#title\n",
    "plt.xlabel('adr')#x label \n",
    "plt.ylabel('rating')# ylabel\n",
    "multiple, = plt.plot(np.sort(adr), beta_mul[0] + np.sort(adr) * beta_mul[1] +\n",
    "                     np.sort(adr2) * beta_mul[2] + np.sort(adr3) * beta_mul[3] +\n",
    "                     np.sort(adr4) * beta_mul[4] + np.sort(adr5) * beta_mul[5],'k'\n",
    "                    )\n",
    "#plot best fitting line with lambda 0\n",
    "\n",
    "rigid, = plt.plot(np.sort(adr), beta_mul2[0] + np.sort(adr) * beta_mul2[1] +\n",
    "                     np.sort(adr2) * beta_mul2[2] + np.sort(adr3) * beta_mul2[3] +\n",
    "                     np.sort(adr4) * beta_mul2[4] + np.sort(adr5) * beta_mul2[5],'r'\n",
    "                    )\n",
    "#plot best fitting line with lambda 1\n",
    "\n",
    "\n",
    "plt.legend([multiple, rigid],['Degree 5','l2 degree 5'])\n",
    "plt.show()#plot"
   ]
  },
  {
   "cell_type": "markdown",
   "metadata": {},
   "source": [
    " refernce https://github.com/hammadshaikhha"
   ]
  }
 ],
 "metadata": {
  "kernelspec": {
   "display_name": "Python 3",
   "language": "python",
   "name": "python3"
  },
  "language_info": {
   "codemirror_mode": {
    "name": "ipython",
    "version": 3
   },
   "file_extension": ".py",
   "mimetype": "text/x-python",
   "name": "python",
   "nbconvert_exporter": "python",
   "pygments_lexer": "ipython3",
   "version": "3.5.3"
  }
 },
 "nbformat": 4,
 "nbformat_minor": 2
}
